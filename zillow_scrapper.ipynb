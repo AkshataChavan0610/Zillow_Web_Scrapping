{
 "cells": [
  {
   "cell_type": "code",
   "execution_count": 1,
   "metadata": {},
   "outputs": [],
   "source": [
    "import requests"
   ]
  },
  {
   "cell_type": "code",
   "execution_count": null,
   "metadata": {},
   "outputs": [],
   "source": [
    "url='https://www.zillow.com/homes/Boston,-MA_rb/'\n",
    "headers= {\n",
    "'accept': 'text/html,application/xhtml+xml,application/xml;q=0.9,image/avif,image/webp,image/apng,*/*;q=0.8,application/signed-exchange;v=b3;q=0.9'\n",
    "'accept-encoding: gzip, deflate, br',\n",
    "'accept-language: en-US,en;q=0.9',\n",
    "'cache-control': 'max-age=0',\n",
    "'cookie': 'zguid=23|%24601b12dd-51d9-492a-83d8-e3a69fed3f20; zjs_user_id=null; _ga=GA1.2.2133127305.1613171125; zjs_anonymous_id=%22601b12dd-51d9-492a-83d8-e3a69fed3f20%22; _pxvid=ca8fe1df-6d86-11eb-9758-0242ac120018; _gcl_au=1.1.1692965813.1613171126; _fbp=fb.1.1613171126268.2056717825; _pin_unauth=dWlkPVlqUXlNMlV5TlRJdFpURXlNeTAwTVRjekxUaGpNakl0TVdaallUSTFPR0U0T1dWaw; ki_r=; __gads=ID=e2704d216e522cb1:T=1613171142:S=ALNI_MYZVQab4mStnd9JVxscB_Eb5r8LXg; ki_s=; ki_t=1613171142543%3B1613171142543%3B1613188913387%3B1%3B12; zgsession=1|81e69a69-2849-4ca5-a19f-94c6cfa716bf; _gid=GA1.2.1202878083.1613729823; _gac_UA-21174015-56=1.1613729823.Cj0KCQiA4L2BBhCvARIsAO0SBdZ6I29xJVtgZfTJpBKwDO7Mi5NNzjrnmk9VM95OPL8sfEwBMvdkWSkaArR7EALw_wcB; _gcl_aw=GCL.1613729825.Cj0KCQiA4L2BBhCvARIsAO0SBdZ6I29xJVtgZfTJpBKwDO7Mi5NNzjrnmk9VM95OPL8sfEwBMvdkWSkaArR7EALw_wcB; KruxPixel=true; DoubleClickSession=true; KruxAddition=true; G_ENABLED_IDPS=google; JSESSIONID=46AD1027D31B70A9BD7A7D25645405B5; _derived_epik=dj0yJnU9VEZib3NYdjQ2YTVIVXJwMTIxWnhuaXU5eXJjSnliQlcmbj1hRHc4c1FaVXFpODVNd2pncFFkZnl3Jm09MSZ0PUFBQUFBR0F3QS1BJnJtPTEmcnQ9QUFBQUFHQXdBLUE; g_state={\"i_p\":1613766660439,\"i_l\":1}; _uetsid=9dd4dd00729b11ebb40e0bd45cefb9c5; _uetvid=cae5e8606d8611ebac26e9557d420e90; _px3=bbd232312c21bef069b876a8abc6448314255884fe8c6b739d827c5e14d37dc7:1HlnJ3+JKMuSO4pJPca7aCmXnBOOkz0CEDn9PagQOhxjY+/FzlZ+rYzgGhtHrvvMaWZmEkVv9k/yXZ1eCfKG3A==:1000:qVf3R5VLh6ie0KNStY9ssquMIkQv2qOofxoTUkctZB+KjSMfKyy3SkOD7RBNcjqCkU+YiUeRxx3wagJFGLLeR8y7iRvWF6qmPMQvYF7SGlsnuRiubDyK7ree2CosMiEIQuFWst+Uz1e1bQc1XnBV3F5JPrdnzcMwBdokU6OQ0m4=; AWSALB=GOqY4d+i8MIgXgkgoGZfDK+1GqiPVLW/CX7QYQlEfD0oYOTaRU1H/HEwHmmyIJJfMz1xsEd9ve42UZVm4XorgSt1s3IgnuCUp4GpWNzmc3xDgz2+ZFN4UoHG2h7N; AWSALBCORS=GOqY4d+i8MIgXgkgoGZfDK+1GqiPVLW/CX7QYQlEfD0oYOTaRU1H/HEwHmmyIJJfMz1xsEd9ve42UZVm4XorgSt1s3IgnuCUp4GpWNzmc3xDgz2+ZFN4UoHG2h7N; search=6|1616351812451%7Crect%3D42.41515430215532%252C-70.8656639404297%252C42.211544155638684%252C-71.22958605957032%26rid%3D44269%26disp%3Dmap%26mdm%3Dauto%26p%3D1%26sort%3Ddays%26z%3D1%26pt%3Dpmf%252Cpf%26fs%3D1%26fr%3D0%26mmm%3D1%26rs%3D0%26ah%3D0%26singlestory%3D0%26housing-connector%3D0%26abo%3D0%26garage%3D0%26pool%3D0%26ac%3D0%26waterfront%3D0%26finished%3D0%26unfinished%3D0%26cityview%3D0%26mountainview%3D0%26parkview%3D0%26waterview%3D0%26hoadata%3D1%26zillow-owned%3D0%263dhome%3D0%09%0944269%09%09%09%09%09%09'\n",
    "'sec-fetch-dest': 'document'\n",
    "'sec-fetch-mode': 'navigate'\n",
    "'sec-fetch-site': 'same-origin'\n",
    "'sec-fetch-user': '?1',\n",
    "'upgrade-insecure-requests': '1',\n",
    "'user-agent': 'Mozilla/5.0 (Windows NT 10.0;' Win64; x64) AppleWebKit/537.36 (KHTML, like Gecko) Chrome/88.0.4324.150 Safari/537.36'\n",
    "}\n",
    "response = requests.get(url, headers=)"
   ]
  }
 ],
 "metadata": {
  "kernelspec": {
   "display_name": "Python 3",
   "language": "python",
   "name": "python3"
  },
  "language_info": {
   "codemirror_mode": {
    "name": "ipython",
    "version": 3
   },
   "file_extension": ".py",
   "mimetype": "text/x-python",
   "name": "python",
   "nbconvert_exporter": "python",
   "pygments_lexer": "ipython3",
   "version": "3.8.3"
  }
 },
 "nbformat": 4,
 "nbformat_minor": 4
}
